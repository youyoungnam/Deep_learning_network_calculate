{
  "nbformat": 4,
  "nbformat_minor": 0,
  "metadata": {
    "colab": {
      "name": "shapes_in_cnn.ipynb",
      "provenance": [],
      "collapsed_sections": []
    },
    "kernelspec": {
      "name": "python3",
      "display_name": "Python 3"
    },
    "language_info": {
      "name": "python"
    }
  },
  "cells": [
    {
      "cell_type": "code",
      "metadata": {
        "id": "mwGX39UO7ch0"
      },
      "source": [
        "import torch \n",
        "import torch.nn as nn \n",
        "import numpy as np \n"
      ],
      "execution_count": null,
      "outputs": []
    },
    {
      "cell_type": "code",
      "metadata": {
        "colab": {
          "base_uri": "https://localhost:8080/"
        },
        "id": "82QGe2aP7mYL",
        "outputId": "338a60b0-5aa3-4634-c611-59e7a2805f54"
      },
      "source": [
        "# shapes in the feature extractor\n",
        "\n",
        "N, n_H, n_W, n_C = 32, 28, 28, 3\n",
        "n_conv_filter= 5\n",
        "k_size = 3\n",
        "pool_size, strides = 2, 2\n",
        "batch_size = 32\n",
        "\n",
        "\n",
        "\n",
        "x= torch.randn(size=(N, n_C, n_H, n_W))\n",
        "print('input size: ', x.size())\n",
        "\n",
        "conv1 = nn.Conv2d(in_channels=3, out_channels=n_conv_filter, kernel_size=k_size,\n",
        "                  padding='same')\n",
        "conv1_relu = nn.ReLU()\n",
        "conv1_pool = nn.MaxPool2d(kernel_size=pool_size, stride= strides)\n",
        "\n",
        "conv2 = nn.Conv2d(in_channels=n_conv_filter, out_channels=n_conv_filter, kernel_size=k_size,\n",
        "                  padding = 'same')\n",
        "conv2_relu = nn.ReLU()\n",
        "conv2_pool = nn.MaxPool2d(kernel_size=pool_size, stride= strides)\n",
        "\n",
        "xx = conv1(x)\n",
        "print(f'After conv1d size: ', xx.size())\n",
        "xx = conv1_relu(xx)\n",
        "xx = conv1_pool(xx)\n",
        "print(f'After conv1d size: ', xx.size())\n",
        "\n",
        "xx = conv2(xx)\n",
        "xx = conv2_relu(xx)\n",
        "xx = conv2_pool(xx)\n",
        "flatten = nn.Flatten()\n",
        "xx = flatten(xx)\n",
        "print(f'After conv2d size: {xx.size()}')"
      ],
      "execution_count": null,
      "outputs": [
        {
          "output_type": "stream",
          "text": [
            "input size:  torch.Size([32, 3, 28, 28])\n",
            "After conv1d size:  torch.Size([32, 5, 28, 28])\n",
            "After conv1d size:  torch.Size([32, 5, 14, 14])\n",
            "After conv2d size: torch.Size([32, 245])\n"
          ],
          "name": "stdout"
        },
        {
          "output_type": "stream",
          "text": [
            "/usr/local/lib/python3.7/dist-packages/torch/nn/functional.py:718: UserWarning: Named tensors and all their associated APIs are an experimental feature and subject to change. Please do not use them for anything important until they are released as stable. (Triggered internally at  /pytorch/c10/core/TensorImpl.h:1156.)\n",
            "  return torch.max_pool2d(input, kernel_size, stride, padding, dilation, ceil_mode)\n"
          ],
          "name": "stderr"
        }
      ]
    },
    {
      "cell_type": "code",
      "metadata": {
        "colab": {
          "base_uri": "https://localhost:8080/"
        },
        "id": "ow_gaxDs7tB9",
        "outputId": "ea58d099-e74a-45c7-cec2-fbdd2ba5f09b"
      },
      "source": [
        "xx"
      ],
      "execution_count": null,
      "outputs": [
        {
          "output_type": "execute_result",
          "data": {
            "text/plain": [
              "tensor([[0.3236, 0.3602, 0.3375,  ..., 0.0000, 0.0482, 0.0000],\n",
              "        [0.2815, 0.3860, 0.3444,  ..., 0.0000, 0.0538, 0.0891],\n",
              "        [0.1203, 0.4444, 0.2873,  ..., 0.0728, 0.0372, 0.0938],\n",
              "        ...,\n",
              "        [0.2023, 0.5672, 0.4594,  ..., 0.0584, 0.1631, 0.1038],\n",
              "        [0.3031, 0.5969, 0.5595,  ..., 0.0739, 0.0000, 0.0892],\n",
              "        [0.4894, 0.2061, 0.5389,  ..., 0.0000, 0.0000, 0.5244]],\n",
              "       grad_fn=<ViewBackward>)"
            ]
          },
          "metadata": {
            "tags": []
          },
          "execution_count": 31
        }
      ]
    },
    {
      "cell_type": "code",
      "metadata": {
        "colab": {
          "base_uri": "https://localhost:8080/"
        },
        "id": "eWubHs6FVzEv",
        "outputId": "3689f573-f432-4215-fdec-d0053345c526"
      },
      "source": [
        "# shapes in Classifier\n",
        "n_neurons = [245, 25, 10]\n",
        "\n",
        "dense1 = nn.Linear(in_features=n_neurons[0], out_features=n_neurons[1])\n",
        "dense1_relu = nn.ReLU()\n",
        "\n",
        "dense2 = nn.Linear(in_features=n_neurons[1], out_features=n_neurons[1])\n",
        "dense2_relu = nn.ReLU()\n",
        "\n",
        "dense3 = nn.Linear(in_features=n_neurons[1], out_features=n_neurons[2])\n",
        "\n",
        "\n",
        "\n",
        "dense1_w, dense1_b = dense1.weight.data, dense1.bias.data\n",
        "dense2_w, dense2_b = dense2.weight.data, dense2.bias.data\n",
        "dense3_w, dense3_b = dense3.weight.data, dense3.bias.data \n",
        "softmaxx = nn.Softmax()\n",
        "\n",
        "\n",
        "print(f'xx shape: {xx.size()}')\n",
        "\n",
        "xx = dense1(xx)\n",
        "xx = dense1_relu(xx)\n",
        "xx = dense2(xx)\n",
        "xx = dense2_relu(xx)\n",
        "xx = dense3(xx)\n",
        "xx = softmaxx(xx)\n",
        "print(f'dense1 w shape: {dense1_w.size()}, dense1_b: {dense1_b.size()}')\n",
        "print(f'dense2 shape:{dense2_w.size()}, bias shape: {dense2_b.size()}')\n",
        "print(f'dense3 shape: {dense3_w.size()}')\n"
      ],
      "execution_count": null,
      "outputs": [
        {
          "output_type": "stream",
          "text": [
            "xx shape: torch.Size([32, 245])\n",
            "dense1 w shape: torch.Size([25, 245]), dense1_b: torch.Size([25])\n",
            "dense2 shape:torch.Size([25, 25]), bias shape: torch.Size([25])\n",
            "dense3 shape: torch.Size([10, 25])\n"
          ],
          "name": "stdout"
        },
        {
          "output_type": "stream",
          "text": [
            "/usr/local/lib/python3.7/dist-packages/ipykernel_launcher.py:26: UserWarning: Implicit dimension choice for softmax has been deprecated. Change the call to include dim=X as an argument.\n"
          ],
          "name": "stderr"
        }
      ]
    },
    {
      "cell_type": "code",
      "metadata": {
        "colab": {
          "base_uri": "https://localhost:8080/"
        },
        "id": "4UfBDVXAXKPG",
        "outputId": "25d32dd5-f6d6-423d-f1c3-7a1ddb956d78"
      },
      "source": [
        "xx.size()"
      ],
      "execution_count": null,
      "outputs": [
        {
          "output_type": "execute_result",
          "data": {
            "text/plain": [
              "torch.Size([32, 10])"
            ]
          },
          "metadata": {
            "tags": []
          },
          "execution_count": 33
        }
      ]
    },
    {
      "cell_type": "code",
      "metadata": {
        "colab": {
          "base_uri": "https://localhost:8080/"
        },
        "id": "cTtXUWa_ZauX",
        "outputId": "3b1fdb46-6e0f-4534-c714-2948bef88671"
      },
      "source": [
        "import random \n",
        "\n",
        "y = [random.randint(0, 9) for _ in range(32)]\n",
        "one_hot = list()\n",
        "\n",
        "\n",
        "for i in range(32):\n",
        "  ones = [0 for _ in range(10)]\n",
        "  one_hot.append(ones)\n",
        "\n",
        "for i in range(len(one_hot)):\n",
        "  one_hots = one_hot[i]\n",
        "  index = y[i]\n",
        "  one_hots[index] = 1\n",
        "  print(one_hots)"
      ],
      "execution_count": null,
      "outputs": [
        {
          "output_type": "stream",
          "text": [
            "[0, 0, 0, 0, 0, 0, 0, 0, 1, 0]\n",
            "[0, 0, 0, 0, 1, 0, 0, 0, 0, 0]\n",
            "[0, 0, 0, 0, 0, 0, 1, 0, 0, 0]\n",
            "[0, 0, 0, 0, 0, 0, 0, 0, 1, 0]\n",
            "[0, 0, 1, 0, 0, 0, 0, 0, 0, 0]\n",
            "[0, 0, 0, 0, 0, 1, 0, 0, 0, 0]\n",
            "[0, 0, 1, 0, 0, 0, 0, 0, 0, 0]\n",
            "[0, 0, 0, 0, 1, 0, 0, 0, 0, 0]\n",
            "[0, 0, 0, 0, 0, 0, 0, 1, 0, 0]\n",
            "[0, 0, 0, 1, 0, 0, 0, 0, 0, 0]\n",
            "[0, 0, 0, 1, 0, 0, 0, 0, 0, 0]\n",
            "[0, 0, 0, 0, 0, 0, 0, 0, 0, 1]\n",
            "[0, 1, 0, 0, 0, 0, 0, 0, 0, 0]\n",
            "[0, 0, 0, 0, 0, 0, 0, 0, 0, 1]\n",
            "[0, 0, 0, 0, 0, 0, 0, 0, 1, 0]\n",
            "[0, 0, 0, 0, 0, 0, 1, 0, 0, 0]\n",
            "[0, 0, 0, 1, 0, 0, 0, 0, 0, 0]\n",
            "[0, 0, 0, 0, 0, 0, 0, 0, 1, 0]\n",
            "[0, 0, 1, 0, 0, 0, 0, 0, 0, 0]\n",
            "[0, 0, 0, 0, 0, 0, 0, 1, 0, 0]\n",
            "[0, 0, 0, 0, 0, 0, 1, 0, 0, 0]\n",
            "[0, 1, 0, 0, 0, 0, 0, 0, 0, 0]\n",
            "[0, 0, 0, 0, 0, 0, 0, 0, 1, 0]\n",
            "[0, 0, 0, 0, 0, 1, 0, 0, 0, 0]\n",
            "[0, 0, 0, 0, 0, 0, 1, 0, 0, 0]\n",
            "[0, 0, 0, 0, 0, 0, 0, 0, 1, 0]\n",
            "[0, 0, 0, 1, 0, 0, 0, 0, 0, 0]\n",
            "[0, 0, 0, 1, 0, 0, 0, 0, 0, 0]\n",
            "[0, 0, 0, 1, 0, 0, 0, 0, 0, 0]\n",
            "[1, 0, 0, 0, 0, 0, 0, 0, 0, 0]\n",
            "[0, 0, 0, 0, 0, 0, 0, 0, 0, 1]\n",
            "[0, 0, 0, 1, 0, 0, 0, 0, 0, 0]\n"
          ],
          "name": "stdout"
        }
      ]
    },
    {
      "cell_type": "code",
      "metadata": {
        "id": "1-nX77ASZkc6",
        "colab": {
          "base_uri": "https://localhost:8080/"
        },
        "outputId": "de57ad5e-9164-430e-e919-f2138bdc1748"
      },
      "source": [
        "for i in one_hot:\n",
        "  print(i)"
      ],
      "execution_count": null,
      "outputs": [
        {
          "output_type": "stream",
          "text": [
            "[0, 0, 0, 0, 0, 0, 0, 0, 1, 0]\n",
            "[0, 0, 0, 0, 1, 0, 0, 0, 0, 0]\n",
            "[0, 0, 0, 0, 0, 0, 1, 0, 0, 0]\n",
            "[0, 0, 0, 0, 0, 0, 0, 0, 1, 0]\n",
            "[0, 0, 1, 0, 0, 0, 0, 0, 0, 0]\n",
            "[0, 0, 0, 0, 0, 1, 0, 0, 0, 0]\n",
            "[0, 0, 1, 0, 0, 0, 0, 0, 0, 0]\n",
            "[0, 0, 0, 0, 1, 0, 0, 0, 0, 0]\n",
            "[0, 0, 0, 0, 0, 0, 0, 1, 0, 0]\n",
            "[0, 0, 0, 1, 0, 0, 0, 0, 0, 0]\n",
            "[0, 0, 0, 1, 0, 0, 0, 0, 0, 0]\n",
            "[0, 0, 0, 0, 0, 0, 0, 0, 0, 1]\n",
            "[0, 1, 0, 0, 0, 0, 0, 0, 0, 0]\n",
            "[0, 0, 0, 0, 0, 0, 0, 0, 0, 1]\n",
            "[0, 0, 0, 0, 0, 0, 0, 0, 1, 0]\n",
            "[0, 0, 0, 0, 0, 0, 1, 0, 0, 0]\n",
            "[0, 0, 0, 1, 0, 0, 0, 0, 0, 0]\n",
            "[0, 0, 0, 0, 0, 0, 0, 0, 1, 0]\n",
            "[0, 0, 1, 0, 0, 0, 0, 0, 0, 0]\n",
            "[0, 0, 0, 0, 0, 0, 0, 1, 0, 0]\n",
            "[0, 0, 0, 0, 0, 0, 1, 0, 0, 0]\n",
            "[0, 1, 0, 0, 0, 0, 0, 0, 0, 0]\n",
            "[0, 0, 0, 0, 0, 0, 0, 0, 1, 0]\n",
            "[0, 0, 0, 0, 0, 1, 0, 0, 0, 0]\n",
            "[0, 0, 0, 0, 0, 0, 1, 0, 0, 0]\n",
            "[0, 0, 0, 0, 0, 0, 0, 0, 1, 0]\n",
            "[0, 0, 0, 1, 0, 0, 0, 0, 0, 0]\n",
            "[0, 0, 0, 1, 0, 0, 0, 0, 0, 0]\n",
            "[0, 0, 0, 1, 0, 0, 0, 0, 0, 0]\n",
            "[1, 0, 0, 0, 0, 0, 0, 0, 0, 0]\n",
            "[0, 0, 0, 0, 0, 0, 0, 0, 0, 1]\n",
            "[0, 0, 0, 1, 0, 0, 0, 0, 0, 0]\n"
          ],
          "name": "stdout"
        }
      ]
    },
    {
      "cell_type": "code",
      "metadata": {
        "id": "hB44Xgz_8GyA"
      },
      "source": [
        "\n",
        "y = torch.tensor(one_hot)"
      ],
      "execution_count": null,
      "outputs": []
    },
    {
      "cell_type": "code",
      "metadata": {
        "colab": {
          "base_uri": "https://localhost:8080/"
        },
        "id": "H_c1z9Ta8OdS",
        "outputId": "743709dc-78ee-4edc-bcec-913b97d35b5c"
      },
      "source": [
        "xx.shape"
      ],
      "execution_count": null,
      "outputs": [
        {
          "output_type": "execute_result",
          "data": {
            "text/plain": [
              "torch.Size([32, 10])"
            ]
          },
          "metadata": {
            "tags": []
          },
          "execution_count": 47
        }
      ]
    },
    {
      "cell_type": "code",
      "metadata": {
        "id": "CrRpUaE-8RMw"
      },
      "source": [
        "# shapes in Loss\n",
        "y = torch.tensor([random.randint(0, 9) for _ in range(32)])"
      ],
      "execution_count": null,
      "outputs": []
    },
    {
      "cell_type": "code",
      "metadata": {
        "id": "xrA3NrUj5xcA"
      },
      "source": [
        "loss_object = nn.CrossEntropyLoss()\n",
        "loss = loss_object(xx, y)"
      ],
      "execution_count": null,
      "outputs": []
    },
    {
      "cell_type": "code",
      "metadata": {
        "colab": {
          "base_uri": "https://localhost:8080/"
        },
        "id": "NslSdDYu8FIx",
        "outputId": "0cd6ebf9-b878-4762-b9df-98feed2e1090"
      },
      "source": [
        "loss"
      ],
      "execution_count": null,
      "outputs": [
        {
          "output_type": "execute_result",
          "data": {
            "text/plain": [
              "tensor(2.3019, grad_fn=<NllLossBackward>)"
            ]
          },
          "metadata": {
            "tags": []
          },
          "execution_count": 57
        }
      ]
    },
    {
      "cell_type": "code",
      "metadata": {
        "colab": {
          "base_uri": "https://localhost:8080/"
        },
        "id": "FKITq73V9Tsl",
        "outputId": "e7fe0831-47b4-4bc5-e120-0b3807d3028d"
      },
      "source": [
        "# implementation with Sequential method\n",
        "\n",
        "n_conv_neurons = [10, 20, 30]\n",
        "n_dense_neurons = [30, 50, 10]\n",
        "k_size, padding = 3, 'same'\n",
        "pool_size, pool_strides = 2, 2\n",
        "\n",
        "\n",
        "N, n_H, n_W, n_C = 4, 28, 28, 3 \n",
        "\n",
        "x = torch.randn(size= (N, n_C, n_H, n_W))\n",
        "print('input size: ', x.size())\n",
        "\n",
        "\n",
        "model = nn.Sequential(\n",
        "    nn.Conv2d(in_channels=3, out_channels=n_conv_neurons[0], kernel_size=k_size, padding=padding),\n",
        "    nn.ReLU(),\n",
        "    nn.MaxPool2d(kernel_size=pool_size, stride=pool_strides),\n",
        "    nn.Conv2d(in_channels=n_conv_neurons[0], out_channels=n_conv_neurons[1], kernel_size=k_size,padding= padding),\n",
        "    nn.ReLU(),\n",
        "    nn.Conv2d(in_channels=n_conv_neurons[1], out_channels=n_conv_neurons[2], kernel_size=k_size, padding=padding),\n",
        "    nn.ReLU(),\n",
        "    nn.MaxPool2d(kernel_size=pool_size, stride=pool_strides),\n",
        "\n",
        "    nn.Flatten(),\n",
        "    nn.Linear(in_features=1470, out_features=n_dense_neurons[1]),\n",
        "    nn.ReLU(),\n",
        "    nn.Linear(in_features=n_dense_neurons[1], out_features=n_dense_neurons[1]),\n",
        "    nn.ReLU(),\n",
        "    nn.Linear(in_features=n_dense_neurons[1], out_features=n_dense_neurons[2]),\n",
        "    nn.Softmax()\n",
        ")\n",
        "\n",
        "prediction = model(x)\n",
        "print(prediction.size())"
      ],
      "execution_count": null,
      "outputs": [
        {
          "output_type": "stream",
          "text": [
            "input size:  torch.Size([4, 3, 28, 28])\n",
            "torch.Size([4, 10])\n"
          ],
          "name": "stdout"
        },
        {
          "output_type": "stream",
          "text": [
            "/usr/local/lib/python3.7/dist-packages/torch/nn/modules/container.py:139: UserWarning: Implicit dimension choice for softmax has been deprecated. Change the call to include dim=X as an argument.\n",
            "  input = module(input)\n"
          ],
          "name": "stderr"
        }
      ]
    },
    {
      "cell_type": "code",
      "metadata": {
        "id": "hQvESMuT9uH3"
      },
      "source": [
        "# implementation with Sequential + sub-classing \n",
        "\n",
        "\n",
        "class MyConv(nn.Module):\n",
        "  def __init__(self, n_neuron, out_neuron):\n",
        "    super(MyConv, self).__init__()\n",
        "\n",
        "    self.conv = nn.Sequential(\n",
        "        nn.Conv2d(in_channels=n_neuron, out_channels=out_neuron, kernel_size=k_size, padding = padding),\n",
        "        nn.ReLU(),\n",
        "        nn.MaxPool2d(kernel_size=pool_size, stride = pool_strides)      \n",
        "    )\n",
        "\n",
        "  def forward(self, x):\n",
        "    out = self.conv(x)\n",
        "    return out \n",
        "\n",
        "\n",
        "models = nn.Sequential(\n",
        "    MyConv(3, n_conv_neurons[0]),\n",
        "    MyConv(n_conv_neurons[0], n_conv_neurons[1]),\n",
        "    MyConv(n_conv_neurons[1], n_conv_neurons[2]),\n",
        "    nn.MaxPool2d(kernel_size=pool_size, stride=pool_strides),\n",
        "    nn.Flatten(),\n",
        "    nn.Linear(in_features=30, out_features=n_dense_neurons[1]),\n",
        "    nn.ReLU(),\n",
        "    nn.Linear(in_features=n_dense_neurons[1], out_features=n_dense_neurons[1]),\n",
        "    nn.ReLU(),\n",
        "    nn.Linear(in_features=n_dense_neurons[1], out_features=n_dense_neurons[2]),\n",
        "    nn.Softmax()\n",
        "    )"
      ],
      "execution_count": null,
      "outputs": []
    },
    {
      "cell_type": "code",
      "metadata": {
        "colab": {
          "base_uri": "https://localhost:8080/"
        },
        "id": "b3X3fobqNwUx",
        "outputId": "0e19525c-fdc0-4d98-8c26-0f28c7e5ab00"
      },
      "source": [
        "\n",
        "models(x).size()"
      ],
      "execution_count": null,
      "outputs": [
        {
          "output_type": "stream",
          "text": [
            "/usr/local/lib/python3.7/dist-packages/torch/nn/modules/container.py:139: UserWarning: Implicit dimension choice for softmax has been deprecated. Change the call to include dim=X as an argument.\n",
            "  input = module(input)\n"
          ],
          "name": "stderr"
        },
        {
          "output_type": "execute_result",
          "data": {
            "text/plain": [
              "torch.Size([4, 10])"
            ]
          },
          "metadata": {
            "tags": []
          },
          "execution_count": 104
        }
      ]
    },
    {
      "cell_type": "code",
      "metadata": {
        "colab": {
          "base_uri": "https://localhost:8080/"
        },
        "id": "3O8AeD6hNx9T",
        "outputId": "9a8103fb-f26e-4da4-a53f-e7c6280416e6"
      },
      "source": [
        "\n",
        "model(x).size()"
      ],
      "execution_count": null,
      "outputs": [
        {
          "output_type": "stream",
          "text": [
            "/usr/local/lib/python3.7/dist-packages/torch/nn/modules/container.py:139: UserWarning: Implicit dimension choice for softmax has been deprecated. Change the call to include dim=X as an argument.\n",
            "  input = module(input)\n"
          ],
          "name": "stderr"
        },
        {
          "output_type": "execute_result",
          "data": {
            "text/plain": [
              "torch.Size([4, 10])"
            ]
          },
          "metadata": {
            "tags": []
          },
          "execution_count": 105
        }
      ]
    },
    {
      "cell_type": "code",
      "metadata": {
        "colab": {
          "base_uri": "https://localhost:8080/"
        },
        "id": "ch2gkRki9tzM",
        "outputId": "f604f07a-4a31-4d8a-8a0f-d137af0a47b3"
      },
      "source": [
        "models(x).size()"
      ],
      "execution_count": null,
      "outputs": [
        {
          "output_type": "execute_result",
          "data": {
            "text/plain": [
              "torch.Size([4, 30])"
            ]
          },
          "metadata": {
            "tags": []
          },
          "execution_count": 95
        }
      ]
    },
    {
      "cell_type": "code",
      "metadata": {
        "id": "Op9QOW3d9tpX"
      },
      "source": [
        ""
      ],
      "execution_count": null,
      "outputs": []
    },
    {
      "cell_type": "code",
      "metadata": {
        "id": "bWwbQqq49tcC"
      },
      "source": [
        ""
      ],
      "execution_count": null,
      "outputs": []
    },
    {
      "cell_type": "code",
      "metadata": {
        "id": "izpD5AJl9rqf"
      },
      "source": [
        ""
      ],
      "execution_count": null,
      "outputs": []
    },
    {
      "cell_type": "code",
      "metadata": {
        "id": "j4aHyuBU9rLY"
      },
      "source": [
        ""
      ],
      "execution_count": null,
      "outputs": []
    },
    {
      "cell_type": "code",
      "metadata": {
        "id": "jBoO14Bb9pez"
      },
      "source": [
        ""
      ],
      "execution_count": null,
      "outputs": []
    }
  ]
}