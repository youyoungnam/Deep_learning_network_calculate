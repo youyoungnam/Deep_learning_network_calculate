{
  "nbformat": 4,
  "nbformat_minor": 0,
  "metadata": {
    "colab": {
      "name": "LeNet.ipynb",
      "provenance": [],
      "collapsed_sections": []
    },
    "kernelspec": {
      "name": "python3",
      "display_name": "Python 3"
    },
    "language_info": {
      "name": "python"
    }
  },
  "cells": [
    {
      "cell_type": "code",
      "metadata": {
        "id": "6qX0OxpSSVa9"
      },
      "source": [
        "import torch\n",
        "import torch.nn as nn \n"
      ],
      "execution_count": 1,
      "outputs": []
    },
    {
      "cell_type": "code",
      "metadata": {
        "id": "Rm4NyTPoSpJK"
      },
      "source": [
        "# LeNet with sub-classing \n",
        "\n",
        "\n",
        "class LeNet(nn.Module):\n",
        "  def __init__(self):\n",
        "    super(LeNet, self).__init__()\n",
        "\n",
        "\n",
        "    self.conv1 = nn.Sequential(\n",
        "        nn.Conv2d(in_channels=1, out_channels=6, kernel_size=5, padding=2, stride=1),\n",
        "        nn.Tanh()\n",
        "    )\n",
        "    self.avg_conv =   nn.AvgPool2d(kernel_size=2, stride=2)\n",
        "    self.conv2 = nn.Sequential(\n",
        "        nn.Conv2d(in_channels=6, out_channels=16, kernel_size=5, padding=0, stride=1),\n",
        "        nn.Tanh(),\n",
        "        nn.AvgPool2d(kernel_size=2, stride=2)\n",
        "    )\n",
        "    self.conv3 = nn.Sequential(\n",
        "        nn.Conv2d(in_channels=16, out_channels=120, kernel_size=5, padding=0, stride=1),\n",
        "        nn.Tanh()\n",
        "    )\n",
        "\n",
        "    self.flatten = nn.Flatten()\n",
        "\n",
        "    self.dense1 = nn.Sequential(\n",
        "        nn.Linear(in_features=120, out_features=84),\n",
        "        nn.Tanh()\n",
        "    )\n",
        "    self.dense2 = nn.Sequential(\n",
        "        nn.Linear(in_features=84, out_features=10),\n",
        "        nn.Tanh()\n",
        "    )    \n",
        "\n",
        "\n",
        "  def forward(self, x):\n",
        "    print(f'input shape: {x.size()}')\n",
        "    output = self.conv1(x)\n",
        "    print(f'conv1 shape: {output.size()}')    \n",
        "    output = self.avg_conv(output)\n",
        "    print(f'conv1 shape: {output.size()}')\n",
        "    output = self.conv2(output)\n",
        "    print(f'conv2 shape: {output.size()}')\n",
        "    output = self.conv3(output)\n",
        "    print(f'conv3 shape: {output.size()}')\n",
        "    output = self.flatten(output)\n",
        "    print(f'flatten shape: {output.size()}')\n",
        "    output = self.dense1(output)\n",
        "    print(f'dense1 shape: {output.size()}')\n",
        "    output = self.dense2(output)\n",
        "    print(f'dense2 shape: {output.size()}')\n",
        "\n",
        "    return output "
      ],
      "execution_count": 6,
      "outputs": []
    },
    {
      "cell_type": "code",
      "metadata": {
        "colab": {
          "base_uri": "https://localhost:8080/"
        },
        "id": "Yndc41klVm66",
        "outputId": "4d4a549c-0036-4120-c191-c671d55abfd3"
      },
      "source": [
        "models = LeNet()\n",
        "models"
      ],
      "execution_count": 7,
      "outputs": [
        {
          "output_type": "execute_result",
          "data": {
            "text/plain": [
              "LeNet(\n",
              "  (conv1): Sequential(\n",
              "    (0): Conv2d(1, 6, kernel_size=(5, 5), stride=(1, 1), padding=(2, 2))\n",
              "    (1): Tanh()\n",
              "  )\n",
              "  (avg_conv): AvgPool2d(kernel_size=2, stride=2, padding=0)\n",
              "  (conv2): Sequential(\n",
              "    (0): Conv2d(6, 16, kernel_size=(5, 5), stride=(1, 1))\n",
              "    (1): Tanh()\n",
              "    (2): AvgPool2d(kernel_size=2, stride=2, padding=0)\n",
              "  )\n",
              "  (conv3): Sequential(\n",
              "    (0): Conv2d(16, 120, kernel_size=(5, 5), stride=(1, 1))\n",
              "    (1): Tanh()\n",
              "  )\n",
              "  (flatten): Flatten(start_dim=1, end_dim=-1)\n",
              "  (dense1): Sequential(\n",
              "    (0): Linear(in_features=120, out_features=84, bias=True)\n",
              "    (1): Tanh()\n",
              "  )\n",
              "  (dense2): Sequential(\n",
              "    (0): Linear(in_features=84, out_features=10, bias=True)\n",
              "    (1): Tanh()\n",
              "  )\n",
              ")"
            ]
          },
          "metadata": {
            "tags": []
          },
          "execution_count": 7
        }
      ]
    },
    {
      "cell_type": "code",
      "metadata": {
        "colab": {
          "base_uri": "https://localhost:8080/"
        },
        "id": "mcM2CHbyVpA4",
        "outputId": "d3a4f09b-ac72-442d-f328-42983ca59e76"
      },
      "source": [
        "x = torch.randn(size=(32, 1, 28, 28))\n",
        "predictions = models(x)"
      ],
      "execution_count": 8,
      "outputs": [
        {
          "output_type": "stream",
          "text": [
            "input shape: torch.Size([32, 1, 28, 28])\n",
            "conv1 shape: torch.Size([32, 6, 28, 28])\n",
            "conv1 shape: torch.Size([32, 6, 14, 14])\n",
            "conv2 shape: torch.Size([32, 16, 5, 5])\n",
            "conv3 shape: torch.Size([32, 120, 1, 1])\n",
            "flatten shape: torch.Size([32, 120])\n",
            "dense1 shape: torch.Size([32, 84])\n",
            "dense2 shape: torch.Size([32, 10])\n"
          ],
          "name": "stdout"
        }
      ]
    },
    {
      "cell_type": "code",
      "metadata": {
        "id": "n2yUTID3VzdD"
      },
      "source": [
        "## LeNet with Hybrid Method\n",
        "\n",
        "\n",
        "\n",
        "class ConvLayer(nn.Module):\n",
        "  def __init__(self, in_filters, out_filters,padding, pool=True):\n",
        "    super(ConvLayer, self).__init__()\n",
        "\n",
        "    self.pool = pool\n",
        "\n",
        "    self.conv = nn.Sequential(\n",
        "        nn.Conv2d(in_channels=in_filters, out_channels=out_filters, kernel_size=5, padding = padding),\n",
        "        nn.Tanh()\n",
        "    )\n",
        "    if self.pool:\n",
        "      self.conv_pool = nn.AvgPool2d(kernel_size=2, stride=2)\n",
        "\n",
        "  def forward(self, x):\n",
        "    output = self.conv(x)\n",
        "    if self.pool == True:\n",
        "      output = self.conv_pool(output)\n",
        "\n",
        "    return output\n",
        "\n",
        "\n",
        "class Model(nn.Module):\n",
        "  def __init__(self):\n",
        "    super(Model, self).__init__()\n",
        "\n",
        "\n",
        "    self.conv1 = ConvLayer(1, 6, padding='same')\n",
        "    self.conv2 = ConvLayer(6, 16, padding='valid')\n",
        "    self.conv3 = ConvLayer(16, 120, padding='valid', pool=False)\n",
        "    self.flatten = nn.Flatten()\n",
        "\n",
        "    self.dense1 = nn.Sequential(\n",
        "        nn.Linear(in_features=120, out_features=84),\n",
        "        nn.Tanh()\n",
        "    )\n",
        "    self.dense2 = nn.Sequential(\n",
        "        nn.Linear(in_features=84, out_features=10),\n",
        "        nn.Tanh()\n",
        "    )    \n",
        "    \n",
        "  def forward(self, x):\n",
        "    print(f'input size: {x.size()}')\n",
        "    output = self.conv1(x)\n",
        "    print(f'input size: {output.size()}')\n",
        "    output = self.conv2(output)\n",
        "    print(f'output size: {output.size()}')\n",
        "    output = self.conv3(output)\n",
        "    print(f'output size: {output.size()}')\n",
        "    output = self.flatten(output)\n",
        "    print(f'output size: {output.size()}')\n",
        "    output = self.dense1(output)\n",
        "    print(f'output size: {output.size()}')\n",
        "    output = self.dense2(output)\n",
        "    print('last output shape: ', output.size())\n",
        "    return output \n",
        "  "
      ],
      "execution_count": 9,
      "outputs": []
    },
    {
      "cell_type": "code",
      "metadata": {
        "colab": {
          "base_uri": "https://localhost:8080/"
        },
        "id": "Okmjyb9Yt4lD",
        "outputId": "baac3c9d-f1f9-40ce-c8f8-a744c207f302"
      },
      "source": [
        "mmodel = Model()\n",
        "mmodel"
      ],
      "execution_count": 10,
      "outputs": [
        {
          "output_type": "execute_result",
          "data": {
            "text/plain": [
              "Model(\n",
              "  (conv1): ConvLayer(\n",
              "    (conv): Sequential(\n",
              "      (0): Conv2d(1, 6, kernel_size=(5, 5), stride=(1, 1), padding=same)\n",
              "      (1): Tanh()\n",
              "    )\n",
              "    (conv_pool): AvgPool2d(kernel_size=2, stride=2, padding=0)\n",
              "  )\n",
              "  (conv2): ConvLayer(\n",
              "    (conv): Sequential(\n",
              "      (0): Conv2d(6, 16, kernel_size=(5, 5), stride=(1, 1), padding=valid)\n",
              "      (1): Tanh()\n",
              "    )\n",
              "    (conv_pool): AvgPool2d(kernel_size=2, stride=2, padding=0)\n",
              "  )\n",
              "  (conv3): ConvLayer(\n",
              "    (conv): Sequential(\n",
              "      (0): Conv2d(16, 120, kernel_size=(5, 5), stride=(1, 1), padding=valid)\n",
              "      (1): Tanh()\n",
              "    )\n",
              "  )\n",
              "  (flatten): Flatten(start_dim=1, end_dim=-1)\n",
              "  (dense1): Sequential(\n",
              "    (0): Linear(in_features=120, out_features=84, bias=True)\n",
              "    (1): Tanh()\n",
              "  )\n",
              "  (dense2): Sequential(\n",
              "    (0): Linear(in_features=84, out_features=10, bias=True)\n",
              "    (1): Tanh()\n",
              "  )\n",
              ")"
            ]
          },
          "metadata": {
            "tags": []
          },
          "execution_count": 10
        }
      ]
    },
    {
      "cell_type": "code",
      "metadata": {
        "colab": {
          "base_uri": "https://localhost:8080/"
        },
        "id": "ko1Ipg-auxd6",
        "outputId": "31486cdb-2274-4af9-9023-e9a5cae1dbad"
      },
      "source": [
        "x = torch.randn(size=(32, 1, 28,28))\n",
        "predict=  mmodel(x)"
      ],
      "execution_count": 11,
      "outputs": [
        {
          "output_type": "stream",
          "text": [
            "input size: torch.Size([32, 1, 28, 28])\n",
            "input size: torch.Size([32, 6, 14, 14])\n",
            "output size: torch.Size([32, 16, 5, 5])\n",
            "output size: torch.Size([32, 120, 1, 1])\n",
            "output size: torch.Size([32, 120])\n",
            "output size: torch.Size([32, 84])\n",
            "last output shape:  torch.Size([32, 10])\n"
          ],
          "name": "stdout"
        }
      ]
    },
    {
      "cell_type": "code",
      "metadata": {
        "id": "boRKfkHkuz48"
      },
      "source": [
        ""
      ],
      "execution_count": null,
      "outputs": []
    }
  ]
}