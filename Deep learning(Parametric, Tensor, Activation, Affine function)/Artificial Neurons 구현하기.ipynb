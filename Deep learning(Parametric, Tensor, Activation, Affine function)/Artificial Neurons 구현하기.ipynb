{
 "cells": [
  {
   "cell_type": "code",
   "execution_count": 3,
   "metadata": {},
   "outputs": [],
   "source": [
    "import torch\n",
    "import torch.nn as nn\n",
    "import math "
   ]
  },
  {
   "cell_type": "markdown",
   "metadata": {},
   "source": [
    "# Activation Functions \n",
    "\n",
    "### Activation Layers"
   ]
  },
  {
   "cell_type": "code",
   "execution_count": 15,
   "metadata": {},
   "outputs": [
    {
     "name": "stdout",
     "output_type": "stream",
     "text": [
      "sigmoid: tensor([[0.6759, 0.5022, 0.4275, 0.2220, 0.6761, 0.2972, 0.1539, 0.7684, 0.6722,\n",
      "         0.3546]]), size: torch.Size([1, 10])\n",
      "tanh: tensor([[ 0.6262,  0.0090, -0.2842, -0.8495,  0.6268, -0.6966, -0.9359,  0.8334,\n",
      "          0.6157, -0.5363]]), tanh size: torch.Size([1, 10])\n",
      "relu: tensor([[0.7351, 0.0090, 0.0000, 0.0000, 0.7361, 0.0000, 0.0000, 1.1993, 0.7180,\n",
      "         0.0000]]), relu size: torch.Size([1, 10])\n",
      "내가 구현한 sigmoid:[0.6759240014015759, 0.502249926974937, 0.42745778544876456, 0.22195885835510865, 0.6761375028769347, 0.2972159221375238, 0.1539168142536246, 0.7683970608018957, 0.6721676849667252, 0.35460049387578585]\n",
      "내가 구현한 tanh: [0.626177143125803, 0.008999525671182567, -0.28418686910008595, -0.8494815161323034, 0.6267693851205188, -0.6965619505719033, -0.9359327233239527, 0.8334355232404852, 0.6156724041319435, -0.5362505019152615]\n",
      "내가 구현한 relu: [tensor(0.7351), tensor(0.0090), 0, 0, tensor(0.7361), 0, 0, tensor(1.1993), tensor(0.7180), 0]\n"
     ]
    }
   ],
   "source": [
    "X = torch.randn(size = (1, 10))\n",
    "\n",
    "sigmoid = nn.Sigmoid()\n",
    "tanh = nn.Tanh()\n",
    "relu = nn.ReLU()\n",
    "\n",
    "y_sigmoid = sigmoid(X)\n",
    "y_tanh = tanh(X)\n",
    "y_relu = relu(X)\n",
    "\n",
    "\n",
    "# X data의 각 원소들이 Activation에 들어가서 연산된걸 볼 수 있다. \n",
    "print(f'sigmoid: {y_sigmoid}, size: {y_sigmoid.size()}')\n",
    "print(f'tanh: {y_tanh}, tanh size: {y_tanh.size()}')\n",
    "print(f'relu: {y_relu}, relu size: {y_relu.size()}')\n",
    "\n",
    "\n",
    "# 검증하기 \n",
    "def sigmoid(x):\n",
    "    return 1/(1 + math.exp(-x))\n",
    "\n",
    "def tanh(x):\n",
    "    return (math.exp(x) - math.exp(-x))/(math.exp(x) + math.exp(-x))\n",
    "\n",
    "\n",
    "def relu(x):\n",
    "    \n",
    "    X1 = x\n",
    "    \n",
    "    if X1 > 0:\n",
    "        X1 = x\n",
    "    else:\n",
    "        X1 = 0 \n",
    "    \n",
    "    return X1 \n",
    "\n",
    "\n",
    "ssgmoid, tanhh, reluu = list(),list(),list()\n",
    "\n",
    "\n",
    "for i_data in X:\n",
    "    \n",
    "    for k_data in i_data:\n",
    "        \n",
    "        ssgmoid.append(sigmoid(k_data))\n",
    "        tanhh.append(tanh(k_data))\n",
    "        reluu.append(relu(k_data))\n",
    "        \n",
    "print(f'내가 구현한 sigmoid:{ssgmoid}')\n",
    "print(f'내가 구현한 tanh: {tanhh}')\n",
    "print(f'내가 구현한 relu: {reluu}')"
   ]
  },
  {
   "cell_type": "markdown",
   "metadata": {},
   "source": [
    "# Activation in Dense layer"
   ]
  },
  {
   "cell_type": "code",
   "execution_count": 28,
   "metadata": {},
   "outputs": [
    {
     "name": "stdout",
     "output_type": "stream",
     "text": [
      "Affine function + Activation result: tensor([[0.3550]], grad_fn=<SigmoidBackward>)\n",
      "Get result: tensor([[0.3550]])\n"
     ]
    }
   ],
   "source": [
    "X1 = torch.randn(size=(1, 20))\n",
    "\n",
    "###################### x_data * W + b    1 x 10 x 10 x 1  + b \n",
    "dense = nn.Sequential(\n",
    "    nn.Linear(20, 1),\n",
    "    nn.Sigmoid() # nn.Tanh(), nn.ReLU() 가능\n",
    ") #   Affine function + activation function\n",
    "\n",
    "result = dense(X1)\n",
    "######################### 검증\n",
    "\n",
    "Weight = dense[0].weight.data \n",
    "Weight_T = Weight.view(20,1)\n",
    "bias = dense[0].bias.data\n",
    "\n",
    "real_result = torch.matmul(X1, Weight_T) + bias\n",
    "activation_real = nn.Sigmoid()(real_result)\n",
    "print(f'Affine function + Activation result: {result}')\n",
    "print(f'Get result: {activation_real}')\n",
    "\n",
    "\n"
   ]
  },
  {
   "cell_type": "markdown",
   "metadata": {},
   "source": [
    "# Artificial Neurons"
   ]
  },
  {
   "cell_type": "code",
   "execution_count": 43,
   "metadata": {},
   "outputs": [
    {
     "name": "stdout",
     "output_type": "stream",
     "text": [
      "tensor([[0.0735]], grad_fn=<TanhBackward>)\n",
      "예측값: tensor([[0.0735]], grad_fn=<TanhBackward>)\n",
      "예측값1:tensor([[0.5184]]) \n"
     ]
    }
   ],
   "source": [
    "#activation = 'sigmoid'\n",
    "activation = 'tanh'\n",
    "# activation = 'relu'\n",
    "\n",
    "X = torch.randn(size=(1,5))\n",
    "\n",
    "if activation == 'sigmoid':\n",
    "    dense = nn.Sequential(\n",
    "        nn.Linear(5, 1),\n",
    "        nn.Sigmoid()\n",
    "    )\n",
    "elif activation == 'tanh':\n",
    "    dense= nn.Sequential(\n",
    "        nn.Linear(5,1),\n",
    "        nn.Tanh()\n",
    "    )\n",
    "elif activation == 'relu':\n",
    "    dense= nn.Sequential(\n",
    "        nn.Linear(5,1),\n",
    "        nn.ReLU()\n",
    "    )\n",
    "    \n",
    "result = dense(X)\n",
    "print(result)\n",
    "\n",
    "\n",
    "##### How to get Weight, bias \n",
    "Weight = dense[0].weight.data\n",
    "bias = dense[0].bias.data\n",
    "\n",
    "Weight_t = Weight.view(5,1)\n",
    "## 결과 같은지 확인\n",
    "yy_result = torch.matmul(X, Weight_t) + bias\n",
    "\n",
    "activation_infos = nn.Sigmoid()(yy_result)\n",
    "print(f'예측값: {result}') # activation 통과했음\n",
    "print(f'예측값1:{activation_infos} ')"
   ]
  },
  {
   "cell_type": "code",
   "execution_count": 39,
   "metadata": {},
   "outputs": [
    {
     "data": {
      "text/plain": [
       "Sequential()"
      ]
     },
     "execution_count": 39,
     "metadata": {},
     "output_type": "execute_result"
    }
   ],
   "source": [
    "nn.Sequential()"
   ]
  },
  {
   "cell_type": "markdown",
   "metadata": {},
   "source": [
    "# Minibatch"
   ]
  },
  {
   "cell_type": "code",
   "execution_count": 66,
   "metadata": {},
   "outputs": [
    {
     "name": "stdout",
     "output_type": "stream",
     "text": [
      "dense size: tensor([[ 0.3345],\n",
      "        [-1.1657],\n",
      "        [-0.3138],\n",
      "        ...,\n",
      "        [-0.4960],\n",
      "        [-0.4278],\n",
      "        [-1.1160]], grad_fn=<AddmmBackward>)\n",
      "X_data shape: torch.Size([3200, 10])\n",
      "Weight shape: torch.Size([10, 1])\n",
      "bias shape: torch.Size([1])\n"
     ]
    }
   ],
   "source": [
    "# minibatch size는 절대로 Weight와 bais를 영향끼지지 않음 \n",
    "N, n_features = 3200 , 10 \n",
    "\n",
    "\n",
    "\n",
    "XX = torch.randn(size= (N, n_features))\n",
    "\n",
    "dense = nn.Sequential(\n",
    "    nn.Linear(n_features, 1)\n",
    ")\n",
    "result_y = dense(XX)\n",
    "\n",
    "\n",
    "\n",
    "print(f'dense size: {result_y}')\n",
    "\n",
    "Weight, bias = dense[0].weight.data, dense[0].bias.data\n",
    "Weight = Weight.view(10,1)\n",
    "print(f'X_data shape: {XX.size()}\\nWeight shape: {Weight.size()}\\nbias shape: {bias.size()}')"
   ]
  },
  {
   "cell_type": "code",
   "execution_count": null,
   "metadata": {},
   "outputs": [],
   "source": []
  }
 ],
 "metadata": {
  "kernelspec": {
   "display_name": "Python 3",
   "language": "python",
   "name": "python3"
  },
  "language_info": {
   "codemirror_mode": {
    "name": "ipython",
    "version": 3
   },
   "file_extension": ".py",
   "mimetype": "text/x-python",
   "name": "python",
   "nbconvert_exporter": "python",
   "pygments_lexer": "ipython3",
   "version": "3.6.9"
  }
 },
 "nbformat": 4,
 "nbformat_minor": 4
}
